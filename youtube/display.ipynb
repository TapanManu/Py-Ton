from IPython.display import YouTubeVideo

YouTubeVideo('#desired video url', width=800, height=450)
#display the video with desired height and width
